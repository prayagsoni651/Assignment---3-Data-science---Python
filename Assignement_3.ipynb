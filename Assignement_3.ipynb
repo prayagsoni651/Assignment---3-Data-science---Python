{
 "cells": [
  {
   "cell_type": "code",
   "execution_count": 1,
   "metadata": {},
   "outputs": [],
   "source": [
    "# 1. Why are functions advantageous to have in your programs?\n",
    "\n",
    "# 2. When does the code in a function run: when it's specified or when it's called ?\n",
    "\n",
    "# specified or when it&#39;s called?\n",
    "\n",
    "# 3. What statement creates a function?\n",
    "\n",
    "# 4. What is the difference between a function and a function call?\n",
    "\n",
    "# 5. How many global scopes are there in a Python program? How \n",
    "# many local scopes?\n",
    "\n",
    "# 6. What happens to variables in a local scope when the function call returns?\n",
    "\n",
    "# 7. What is the concept of a return value? Is it possible to have a return \n",
    "# value in an expression?\n",
    "\n",
    "# 8. If a function does not have a return statement, what is the return value of a \n",
    "# call to that function?\n",
    "\n",
    "# 9. How do you make a function variable refer to the global variable?\n",
    "\n",
    "# 10. What is the data type of None?\n",
    "\n",
    "# 11. What does the sentence import areallyourpetsnamederic do?\n",
    "\n",
    "# 12. If you had a bacon() feature in a spam module, what would you call \n",
    "# it after importing spam?\n",
    "\n",
    "# 13. What can you do to save a programme from crashing if it encounters\n",
    "# an error?\n",
    "\n",
    "# 14. What is the purpose of the try clause? What is the purpose of\n",
    "# the except clause?\n"
   ]
  },
  {
   "cell_type": "code",
   "execution_count": 2,
   "metadata": {},
   "outputs": [
    {
     "data": {
      "text/plain": [
       "\"\\nFunctions offer several advantages in programming:\\n\\nModularity:\\nFunctions allow you to break down a program into smaller, manageable, \\nand reusable pieces of code. This modularity makes code organization\\nmore straightforward and helps in building large and complex programs\\nby dividing them into smaller, more understandable components.\\n\\n\\n\\nReuse of Code:\\nOnce you define a function, you can reuse it in different parts of your \\nprogram or even in other programs. This promotes code reusability and\\nreduces redundancy, saving time and effort.\\n\\n\\n\\nAbstraction: \\nFunctions provide a level of abstraction. Users of a function don't \\nneed to know the internal details of how it works; they only need\\nto know what the function does and how to use it. This abstraction\\nsimplifies the complexity of the code.\\n\\n\\n\\nReadability: \\nBreaking down a program into functions makes the code more readable \\nand easier to understand. Each function can have a specific purpose,\\nand by giving meaningful names to functions, you can convey the \\npurpose of each part of your code more clearly.\\n\\n\\n\\nDebugging: \\nFunctions make it easier to identify and fix issues in your code.\\nIf a bug occurs, you can focus on a specific function rather than \\nsearching through the entire codebase. This makes the debugging process \\nmore efficient.\\n\\n\\n\\nScoping: \\nFunctions introduce scope, which means variables defined within a \\nfunction are typically local to that function. This helps prevent naming\\nconflicts and unintended modifications of variables elsewhere in the program.\\n\\n\\n\\n\\nTesting:\\nFunctions facilitate unit testing. Since functions are modular and isolated, \\nyou can test them independently, ensuring that each part of your program\\nworks as intended.\\n\\n\\n\\nCollaboration: \\nIn collaborative coding environments, functions allow different team members\\nto work on separate parts of a program without interfering with each other's \\ncode. This enables parallel development and enhances collaboration.\\n\\n\\n\\nCode Maintenance: \\nFunctions make it easier to maintain and update code. If a change is needed,\\nyou can focus on the specific function that requires modification, rather \\nthan navigating through the entire codebase.\\n\""
      ]
     },
     "execution_count": 2,
     "metadata": {},
     "output_type": "execute_result"
    }
   ],
   "source": [
    "# 1. Why are functions advantageous to have in your programs?\n",
    "\n",
    "'''\n",
    "Functions offer several advantages in programming:\n",
    "\n",
    "Modularity:\n",
    "Functions allow you to break down a program into smaller, manageable, \n",
    "and reusable pieces of code. This modularity makes code organization\n",
    "more straightforward and helps in building large and complex programs\n",
    "by dividing them into smaller, more understandable components.\n",
    "\n",
    "\n",
    "\n",
    "Reuse of Code:\n",
    "Once you define a function, you can reuse it in different parts of your \n",
    "program or even in other programs. This promotes code reusability and\n",
    "reduces redundancy, saving time and effort.\n",
    "\n",
    "\n",
    "\n",
    "Abstraction: \n",
    "Functions provide a level of abstraction. Users of a function don't \n",
    "need to know the internal details of how it works; they only need\n",
    "to know what the function does and how to use it. This abstraction\n",
    "simplifies the complexity of the code.\n",
    "\n",
    "\n",
    "\n",
    "Readability: \n",
    "Breaking down a program into functions makes the code more readable \n",
    "and easier to understand. Each function can have a specific purpose,\n",
    "and by giving meaningful names to functions, you can convey the \n",
    "purpose of each part of your code more clearly.\n",
    "\n",
    "\n",
    "\n",
    "Debugging: \n",
    "Functions make it easier to identify and fix issues in your code.\n",
    "If a bug occurs, you can focus on a specific function rather than \n",
    "searching through the entire codebase. This makes the debugging process \n",
    "more efficient.\n",
    "\n",
    "\n",
    "\n",
    "Scoping: \n",
    "Functions introduce scope, which means variables defined within a \n",
    "function are typically local to that function. This helps prevent naming\n",
    "conflicts and unintended modifications of variables elsewhere in the program.\n",
    "\n",
    "\n",
    "\n",
    "\n",
    "Testing:\n",
    "Functions facilitate unit testing. Since functions are modular and isolated, \n",
    "you can test them independently, ensuring that each part of your program\n",
    "works as intended.\n",
    "\n",
    "\n",
    "\n",
    "Collaboration: \n",
    "In collaborative coding environments, functions allow different team members\n",
    "to work on separate parts of a program without interfering with each other's \n",
    "code. This enables parallel development and enhances collaboration.\n",
    "\n",
    "\n",
    "\n",
    "Code Maintenance: \n",
    "Functions make it easier to maintain and update code. If a change is needed,\n",
    "you can focus on the specific function that requires modification, rather \n",
    "than navigating through the entire codebase.\n",
    "'''"
   ]
  },
  {
   "cell_type": "code",
   "execution_count": 3,
   "metadata": {},
   "outputs": [
    {
     "name": "stdout",
     "output_type": "stream",
     "text": [
      "This code is outside the function.\n",
      "This code is inside the function.\n"
     ]
    }
   ],
   "source": [
    "# 2. When does the code in a function run: when it's specified or when it's called ?\n",
    "\n",
    "'''\n",
    "\n",
    "The code in a function runs when the function is called, not when it's \n",
    "specified or defined. The act of defining a function in a programming\n",
    "language sets up the function's structure and behavior, but the actual \n",
    "execution of the code within the function occurs only when the function\n",
    "is invoked or called during the program's execution\n",
    "\n",
    "'''\n",
    "\n",
    "def my_function():\n",
    "    print(\"This code is inside the function.\")\n",
    "\n",
    "# Code outside the function\n",
    "print(\"This code is outside the function.\")\n",
    "\n",
    "# Calling the function\n",
    "my_function()\n"
   ]
  },
  {
   "cell_type": "code",
   "execution_count": 4,
   "metadata": {},
   "outputs": [
    {
     "name": "stdout",
     "output_type": "stream",
     "text": [
      "Hello, Alice!\n"
     ]
    }
   ],
   "source": [
    "# 3. What statement creates a function?\n",
    "\n",
    "'''\n",
    "\n",
    "In Python, the def statement is used to create a function. The def keyword\n",
    "is followed by the function name, a pair of parentheses that may contain \n",
    "parameters, and a colon. The body of the function, where the actual code \n",
    "is written, is indented below the def statement.\n",
    "\n",
    "'''\n",
    "\n",
    "def greet(name):\n",
    "    print(f\"Hello, {name}!\")\n",
    "\n",
    "# Function call\n",
    "greet(\"Alice\")\n"
   ]
  },
  {
   "cell_type": "code",
   "execution_count": 6,
   "metadata": {},
   "outputs": [
    {
     "name": "stdout",
     "output_type": "stream",
     "text": [
      "8\n"
     ]
    }
   ],
   "source": [
    "# 4. What is the difference between a function and a function call?\n",
    "\n",
    "\n",
    "'''\n",
    "Function def:\n",
    "\n",
    " ==== A function is a block of organized, reusable code that performs a \n",
    "      specific task.\n",
    " ==== It is defined using the def keyword in Python.\n",
    " ==== A function consists of a name, a set of parameters (optional), and \n",
    "      a body of code that defines the actions to be performed when the \n",
    "      function is called.\n",
    " ==== Functions are used to promote code modularity, reusability, and  \n",
    "     abstraction.\n",
    "Example of a function definition:\n",
    "'''\n",
    "def add_numbers(a, b):\n",
    "    return a + b\n",
    "\n",
    "'''\n",
    "Function Call:\n",
    "\n",
    " === A function call is the act of invoking or executing a function to \n",
    "     perform its specified task.\n",
    " === It involves providing the required arguments (if any) and triggering \n",
    "     the execution of the code within the function.\n",
    " === Function calls are written with the function name followed by \n",
    "     parentheses containing the arguments (if any).\n",
    "Example of a function call:\n",
    "'''\n",
    "result = add_numbers(3, 5)\n",
    "print(result)\n"
   ]
  },
  {
   "cell_type": "code",
   "execution_count": 7,
   "metadata": {},
   "outputs": [
    {
     "name": "stdout",
     "output_type": "stream",
     "text": [
      "10\n",
      "20\n"
     ]
    }
   ],
   "source": [
    "# 5. How many global scopes are there in a Python program? \n",
    "# How many local scopes?\n",
    "\n",
    "'''\n",
    "In a Python program, there is generally one global scope and multiple local scopes.\n",
    "\n",
    "Global Scope:\n",
    "\n",
    " === There is only one global scope in a Python program.\n",
    " === The global scope is the outermost scope and is not contained \n",
    "     within any function or class.\n",
    " === Variables defined in the global scope are accessible throughout \n",
    "     the entire program.\n",
    "\n",
    "Example:\n",
    "'''\n",
    "global_variable = 10\n",
    "\n",
    "def my_function():\n",
    "    print(global_variable)\n",
    "\n",
    "my_function()  # Output: 10\n",
    "\n",
    "\n",
    "'''\n",
    "Local Scopes:\n",
    "\n",
    " === Each function call in Python creates a new local scope.\n",
    " === Variables defined within a function are local to that function \n",
    "     and are not directly accessible outside of it.\n",
    " === The local scope is created when the function is called and is \n",
    "     destroyed when the function completes its execution.\n",
    "'''\n",
    "def my_function():\n",
    "    local_variable = 20\n",
    "    print(local_variable)\n",
    "\n",
    "my_function()  # Output: 20\n",
    "\n",
    "\n",
    "'''\n",
    "It's important to note that local scopes are nested within each\n",
    "other based on the function calls. Each function call creates a \n",
    "new local scope, and when the function completes, its local scope\n",
    "is discarded\n",
    "'''\n"
   ]
  },
  {
   "cell_type": "code",
   "execution_count": 8,
   "metadata": {},
   "outputs": [
    {
     "name": "stdout",
     "output_type": "stream",
     "text": [
      "Inside function: 10\n"
     ]
    }
   ],
   "source": [
    "# 6. What happens to variables in a local scope when the function call returns?\n",
    "\n",
    "'''\n",
    "When a function call in Python returns, the local scope associated with that\n",
    "function is destroyed, and any variables defined within that local scope cease\n",
    "to exist. This process is known as the \"scope resolution\" or \"scope cleanup.\"\n",
    "\n",
    "Here's a simple explanation of what happens to variables in a local scope\n",
    "when a function call returns:\n",
    "\n",
    "Variable Lifetime:\n",
    "      --  Variables defined within a function's local scope have a lifetime \n",
    "          that is limited to the duration of the function call.\n",
    "      --   These variables are created when the function is called and \n",
    "           initialized with values, if any. They exist as long as the function\n",
    "           is executing.\n",
    "           \n",
    "           \n",
    "Scope Destruction:\n",
    "      --  Once the function call completes (either by reaching the end \n",
    "          of the function or encountering a return statement), the local \n",
    "          scope associated with that function is destroyed.\n",
    "      --  All variables defined within the local scope are deallocated, and\n",
    "          their memory is released.\n",
    "'''\n",
    "\n",
    "def my_function():\n",
    "    local_variable = 10\n",
    "    print(\"Inside function:\", local_variable)\n",
    "\n",
    "# Calling the function\n",
    "my_function()\n",
    "\n"
   ]
  },
  {
   "cell_type": "code",
   "execution_count": 9,
   "metadata": {},
   "outputs": [
    {
     "name": "stdout",
     "output_type": "stream",
     "text": [
      "17\n"
     ]
    }
   ],
   "source": [
    "# 7. What is the concept of a return value? Is it possible to have\n",
    "# a return value in an expression?\n",
    "\n",
    "'''\n",
    "The concept of a return value in programming refers to the value that\n",
    "a function produces and sends back to the code that called it. When a \n",
    "function is executed, it may perform some operations, and optionally,\n",
    "it can return a value to the calling code\n",
    "\n",
    "\n",
    "Regarding the question of having a return value in an expression, yes, \n",
    "it is possible. The return value of a function can be used in expressions \n",
    "just like any other value\n",
    "\n",
    "'''\n",
    "\n",
    "def square(x):\n",
    "    return x ** 2\n",
    "\n",
    "result = square(4) + 1\n",
    "print(result)  # Output: 17\n"
   ]
  },
  {
   "cell_type": "code",
   "execution_count": 10,
   "metadata": {},
   "outputs": [
    {
     "name": "stdout",
     "output_type": "stream",
     "text": [
      "This function does not have a return statement.\n",
      "None\n"
     ]
    },
    {
     "data": {
      "text/plain": [
       "\"\\nIt's important to note that even though the function doesn't explicitly \\nreturn a value, it still implicitly returns None. This behavior is different\\nfrom some other programming languages where functions may not have a return\\nvalue by default. In Python, every function returns something, and if no \\nexplicit return statement is provided, it defaults to None\\n\\n\""
      ]
     },
     "execution_count": 10,
     "metadata": {},
     "output_type": "execute_result"
    }
   ],
   "source": [
    "# 8. If a function does not have a return statement, what is the return \n",
    "# value of a call to that function?\n",
    "\n",
    "'''\n",
    "\n",
    "If a function in Python does not have a return statement, or if the return \n",
    "statement is without any value, the function implicitly returns None.\n",
    "None is a special object in Python that represents the absence of a value\n",
    "'''\n",
    "def my_function():\n",
    "    print(\"This function does not have a return statement.\")\n",
    "\n",
    "result = my_function()\n",
    "print(result)  # Output: None\n",
    "\n",
    "'''\n",
    "It's important to note that even though the function doesn't explicitly \n",
    "return a value, it still implicitly returns None. This behavior is different\n",
    "from some other programming languages where functions may not have a return\n",
    "value by default. In Python, every function returns something, and if no \n",
    "explicit return statement is provided, it defaults to None\n",
    "\n",
    "'''\n",
    "\n"
   ]
  },
  {
   "cell_type": "code",
   "execution_count": 11,
   "metadata": {},
   "outputs": [
    {
     "name": "stdout",
     "output_type": "stream",
     "text": [
      "Before: 10\n",
      "After: 15\n"
     ]
    },
    {
     "data": {
      "text/plain": [
       "\"\\nKeep in mind that using global variables in this way can make your code\\nless modular and harder to maintain. It's generally recommended to avoid\\nexcessive use of global variables and instead pass values between \\nfunctions through parameters and return values. This promotes better\\ncode organization and reduces potential side effects\\n\\n\""
      ]
     },
     "execution_count": 11,
     "metadata": {},
     "output_type": "execute_result"
    }
   ],
   "source": [
    "# 9. How do you make a function variable refer to the global variable?\n",
    "\n",
    "'''\n",
    "In Python, if you want to make a function variable refer to a global \n",
    "variable, you can use the global keyword within the function. This \n",
    "allows you to indicate that the variable being used within the function\n",
    "should refer to the global variable with the same name\n",
    "\n",
    "'''\n",
    "\n",
    "global_variable = 10  # This is a global variable\n",
    "\n",
    "def modify_global_variable():\n",
    "    global global_variable  # Declare the intention to use the global variable\n",
    "    global_variable += 5\n",
    "\n",
    "# Before the function call\n",
    "print(\"Before:\", global_variable)\n",
    "\n",
    "# Call the function\n",
    "modify_global_variable()\n",
    "\n",
    "# After the function call\n",
    "print(\"After:\", global_variable)\n",
    "\n",
    "'''\n",
    "Keep in mind that using global variables in this way can make your code\n",
    "less modular and harder to maintain. It's generally recommended to avoid\n",
    "excessive use of global variables and instead pass values between \n",
    "functions through parameters and return values. This promotes better\n",
    "code organization and reduces potential side effects\n",
    "\n",
    "'''\n"
   ]
  },
  {
   "cell_type": "code",
   "execution_count": 13,
   "metadata": {},
   "outputs": [
    {
     "name": "stdout",
     "output_type": "stream",
     "text": [
      "<class 'NoneType'>\n"
     ]
    },
    {
     "data": {
      "text/plain": [
       "\"\\nIn Python, None is a special constant that represents the absence of a\\nvalue or a null value. It is often used to indicate that a variable or\\na function doesn't have a meaningful result or value to return.\\n\""
      ]
     },
     "execution_count": 13,
     "metadata": {},
     "output_type": "execute_result"
    }
   ],
   "source": [
    "# 10. What is the data type of None?\n",
    "\n",
    "value = None\n",
    "print(type(value))  # Output: <class 'NoneType'>\n",
    "\n",
    "\n",
    "'''\n",
    "In Python, None is a special constant that represents the absence of a\n",
    "value or a null value. It is often used to indicate that a variable or\n",
    "a function doesn't have a meaningful result or value to return.\n",
    "'''\n",
    "# bool data type\n"
   ]
  },
  {
   "cell_type": "code",
   "execution_count": 14,
   "metadata": {},
   "outputs": [
    {
     "data": {
      "text/plain": [
       "\"\\nIn Python, the import statement is used to bring modules or packages \\ninto the current namespace, making their functions, classes, or variables \\naccessible for use in the code\\n\\n\\nThe sentence import areallyourpetsnamederic is syntactically correct in \\nPython but doesn't have any built-in meaning or functionality in the \\nPython standard library. It is not a valid import statement for any \\nexisting \\n\""
      ]
     },
     "execution_count": 14,
     "metadata": {},
     "output_type": "execute_result"
    }
   ],
   "source": [
    "# 11. What does the sentence import areallyourpetsnamederic do?\n",
    "\n",
    "\n",
    "'''\n",
    "In Python, the import statement is used to bring modules or packages \n",
    "into the current namespace, making their functions, classes, or variables \n",
    "accessible for use in the code\n",
    "\n",
    "\n",
    "The sentence import areallyourpetsnamederic is syntactically correct in \n",
    "Python but doesn't have any built-in meaning or functionality in the \n",
    "Python standard library. It is not a valid import statement for any \n",
    "existing \n",
    "'''"
   ]
  },
  {
   "cell_type": "code",
   "execution_count": null,
   "metadata": {},
   "outputs": [],
   "source": [
    "# 12. If you had a bacon() feature in a spam module, \n",
    "# what would you call it after importing spam?\n",
    "\n",
    "import spam\n",
    "\n",
    "spam.bacon()\n",
    "\n",
    "'''\n",
    "This ensures that you are calling the bacon() function from the spam module\n",
    "and it helps prevent naming conflicts in case there is another bacon() \n",
    "function defined in a different module or part of your code. The dot \n",
    "notation (spam.bacon()) is used to specify that you are calling the\n",
    "bacon() function from within the spam module\n",
    "\n",
    "'''\n"
   ]
  },
  {
   "cell_type": "code",
   "execution_count": 16,
   "metadata": {},
   "outputs": [
    {
     "name": "stdout",
     "output_type": "stream",
     "text": [
      "Error: division by zero\n",
      "This is the 'finally' block.\n"
     ]
    }
   ],
   "source": [
    "#13. What can you do to save a programme from crashing if\n",
    "# it encounters an error?\n",
    "\n",
    "\n",
    "'''\n",
    "To prevent a program from crashing when it encounters an error, you\n",
    "can implement error handling mechanisms. In Python, this is typically\n",
    "done using try-except blocks. Here's how you can use them:\n",
    "\n",
    "'''\n",
    "\n",
    "try:\n",
    "    # Code that might raise an exception\n",
    "    result = 10 / 0  # Example: Division by zero\n",
    "    print(result)   # This line will not be executed if an exception occurs\n",
    "\n",
    "except ZeroDivisionError as e:\n",
    "    # Handle the specific exception (in this case, division by zero)\n",
    "    print(f\"Error: {e}\")\n",
    "\n",
    "except Exception as e:\n",
    "    # Handle other types of exceptions\n",
    "    print(f\"Unexpected error: {e}\")\n",
    "\n",
    "else:\n",
    "    # This block is executed if no exception occurs\n",
    "    print(\"No error occurred.\")\n",
    "\n",
    "finally:\n",
    "    # This block is always executed, whether an exception occurred or not\n",
    "    print(\"This is the 'finally' block.\")\n"
   ]
  },
  {
   "cell_type": "code",
   "execution_count": 17,
   "metadata": {},
   "outputs": [
    {
     "name": "stdout",
     "output_type": "stream",
     "text": [
      "Error: division by zero\n",
      "Error: division by zero\n"
     ]
    }
   ],
   "source": [
    "# 14. What is the purpose of the try clause? \n",
    "# What is the purpose of the except clause?\n",
    "\n",
    "\n",
    "\"\"\"\n",
    "    The try and except clauses in Python are used for implementing exception \n",
    "    handling, allowing you to handle errors or exceptional situations in a \n",
    "    controlled manner.\n",
    "    \n",
    "    try Clause:\n",
    "\n",
    "  === The try clause encloses a block of code where you anticipate potential \n",
    "      exceptions or errors.\n",
    "  === Code within the try block is executed, and if any exception occurs \n",
    "      during its execution, the control is transferred to the corresponding \n",
    "      except block.\n",
    "  === The primary purpose of the try clause is to isolate the code that\n",
    "      might raise exceptions.\n",
    "    \n",
    "    \"\"\"\n",
    "try:\n",
    "    # Code that might raise an exception\n",
    "    result = 10 / 0  # Example: Division by zero\n",
    "    print(result)   # This line will not be executed if an exception occurs\n",
    "\n",
    "except ZeroDivisionError as e:\n",
    "    # Handle the specific exception (in this case, division by zero)\n",
    "    print(f\"Error: {e}\")\n",
    "\n",
    "    \"\"\"\n",
    "except Clause:\n",
    "\n",
    "   ==== The except clause follows the try block and specifies how to handle \n",
    "        specific exceptions.\n",
    "   ==== Multiple except blocks can be used to handle different types of\n",
    "       exceptions, allowing for more granular error handling.\n",
    "   ==== The code within the except block is executed when an exception matching\n",
    "        the specified type occurs in the corresponding try block.\n",
    "   ==== The purpose of the except clause is to define the exception-handling \n",
    "        logic.\n",
    "    \n",
    "    \"\"\"\n",
    "    \n",
    "    \n",
    "try:\n",
    "    # Code that might raise an exception\n",
    "    result = 10 / 0  # Example: Division by zero\n",
    "    print(result)   # This line will not be executed if an exception occurs\n",
    "\n",
    "except ZeroDivisionError as e:\n",
    "    # Handle the specific exception (in this case, division by zero)\n",
    "    print(f\"Error: {e}\")\n",
    "\n"
   ]
  },
  {
   "cell_type": "code",
   "execution_count": null,
   "metadata": {},
   "outputs": [],
   "source": []
  }
 ],
 "metadata": {
  "kernelspec": {
   "display_name": "base",
   "language": "python",
   "name": "python3"
  },
  "language_info": {
   "codemirror_mode": {
    "name": "ipython",
    "version": 3
   },
   "file_extension": ".py",
   "mimetype": "text/x-python",
   "name": "python",
   "nbconvert_exporter": "python",
   "pygments_lexer": "ipython3",
   "version": "3.11.4"
  }
 },
 "nbformat": 4,
 "nbformat_minor": 2
}
